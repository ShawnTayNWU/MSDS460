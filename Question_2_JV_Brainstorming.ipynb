{
  "cells": [
    {
      "cell_type": "markdown",
      "metadata": {
        "id": "view-in-github",
        "colab_type": "text"
      },
      "source": [
        "<a href=\"https://colab.research.google.com/github/ShawnTayNWU/MSDS460/blob/Assignments/Question_2_JV_Brainstorming.ipynb\" target=\"_parent\"><img src=\"https://colab.research.google.com/assets/colab-badge.svg\" alt=\"Open In Colab\"/></a>"
      ]
    },
    {
      "cell_type": "code",
      "execution_count": null,
      "id": "aba0d936",
      "metadata": {
        "id": "aba0d936"
      },
      "outputs": [],
      "source": [
        "import numpy as np\n",
        "from numpy import random\n",
        "import matplotlib.pyplot as plt"
      ]
    },
    {
      "cell_type": "code",
      "execution_count": null,
      "id": "33dbba4e",
      "metadata": {
        "id": "33dbba4e",
        "outputId": "3c037a68-812d-401b-a1d3-07bd9ae7cd00"
      },
      "outputs": [
        {
          "data": {
            "image/png": "[encoded data removed]",
            "text/plain": [
              "<Figure size 432x288 with 1 Axes>"
            ]
          },
          "metadata": {
            "needs_background": "light"
          },
          "output_type": "display_data"
        }
      ],
      "source": [
        "# Negative Binomial\n",
        "# Dig Foundation - Mean 4 days\n",
        "\n",
        "h = plt.hist(np.random.negative_binomial(4*0.7, 0.7, 100000),\n",
        "             density=True,histtype='bar')\n",
        "plt.show()"
      ]
    },
    {
      "cell_type": "code",
      "execution_count": null,
      "id": "90556fd4",
      "metadata": {
        "id": "90556fd4",
        "outputId": "2c46b2e8-cf4c-4ae9-d1c5-e9ca02d796d5"
      },
      "outputs": [
        {
          "data": {
            "image/png": "[encoded data removed]",
            "text/plain": [
              "<Figure size 432x288 with 1 Axes>"
            ]
          },
          "metadata": {
            "needs_background": "light"
          },
          "output_type": "display_data"
        }
      ],
      "source": [
        "# Poisson Distribution\n",
        "h = plt.hist(np.random.poisson(lam=4, size=10000),\n",
        "             density=True,histtype='bar')\n",
        "plt.show()"
      ]
    },
    {
      "cell_type": "code",
      "execution_count": null,
      "id": "d55de8eb",
      "metadata": {
        "id": "d55de8eb",
        "outputId": "2a6cff6f-797c-4036-9fe6-49d3009175b9"
      },
      "outputs": [
        {
          "data": {
            "image/png": "[encoded data removed]",
            "text/plain": [
              "<Figure size 432x288 with 1 Axes>"
            ]
          },
          "metadata": {
            "needs_background": "light"
          },
          "output_type": "display_data"
        }
      ],
      "source": [
        "# Exponential Distribution\n",
        "# Dig Foundation - Mean 4 days  \n",
        "h = plt.hist(np.random.exponential(scale = 4, size=10000),bins=200,\n",
        "             density=True)\n",
        "plt.show()"
      ]
    },
    {
      "cell_type": "code",
      "execution_count": null,
      "id": "5161707d",
      "metadata": {
        "id": "5161707d",
        "outputId": "6f6fa1fc-33c3-447d-8cc4-af48b0a28594"
      },
      "outputs": [
        {
          "data": {
            "image/png": "[encoded data removed]",
            "text/plain": [
              "<Figure size 432x288 with 1 Axes>"
            ]
          },
          "metadata": {
            "needs_background": "light"
          },
          "output_type": "display_data"
        }
      ],
      "source": [
        "# Beta Distribution\n",
        "# https://www.isixsigma.com/methodology/project-management/better-project-management-through-beta-distribution/\n",
        "# optimistic - a = 1\n",
        "# pessimistic - b = 10\n",
        "# most likely - m = 4\n",
        "# Dig Foundation - Mean 4 days  µ = a + 4m + b6\n",
        "# variance (b-a/6)^2\n",
        "h = plt.hist(random.beta(2,6, size=100000), bins=200,\n",
        "             density=True)\n",
        "plt.show()"
      ]
    },
    {
      "cell_type": "code",
      "execution_count": null,
      "id": "70cc3b7e",
      "metadata": {
        "id": "70cc3b7e",
        "outputId": "0725bedd-1418-4d66-fe41-3fc3d39e75fa"
      },
      "outputs": [
        {
          "data": {
            "image/png": "[encoded data removed]",
            "text/plain": [
              "<Figure size 432x288 with 1 Axes>"
            ]
          },
          "metadata": {
            "needs_background": "light"
          },
          "output_type": "display_data"
        }
      ],
      "source": [
        "import matplotlib.pyplot as plt\n",
        "h = plt.hist(np.random.triangular(2, 4, 6, 100000), bins=200,\n",
        "             density=True)\n",
        "plt.show()"
      ]
    },
    {
      "cell_type": "code",
      "execution_count": null,
      "id": "d8964c56",
      "metadata": {
        "id": "d8964c56"
      },
      "outputs": [],
      "source": [
        ""
      ]
    }
  ],
  "metadata": {
    "kernelspec": {
      "display_name": "Python 3",
      "language": "python",
      "name": "python3"
    },
    "language_info": {
      "codemirror_mode": {
        "name": "ipython",
        "version": 3
      },
      "file_extension": ".py",
      "mimetype": "text/x-python",
      "name": "python",
      "nbconvert_exporter": "python",
      "pygments_lexer": "ipython3",
      "version": "3.8.3"
    },
    "colab": {
      "name": "Question 2 JV Brainstorming.ipynb",
      "provenance": [],
      "include_colab_link": true
    }
  },
  "nbformat": 4,
  "nbformat_minor": 5
}