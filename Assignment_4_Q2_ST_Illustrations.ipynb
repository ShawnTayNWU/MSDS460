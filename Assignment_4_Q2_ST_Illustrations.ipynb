{
  "cells": [
    {
      "cell_type": "markdown",
      "metadata": {
        "id": "view-in-github",
        "colab_type": "text"
      },
      "source": [
        "<a href=\"https://colab.research.google.com/github/ShawnTayNWU/MSDS460/blob/Assignments/Assignment_4_Q2_ST_Illustrations.ipynb\" target=\"_parent\"><img src=\"https://colab.research.google.com/assets/colab-badge.svg\" alt=\"Open In Colab\"/></a>"
      ]
    },
    {
      "cell_type": "code",
      "execution_count": 2,
      "id": "aba0d936",
      "metadata": {
        "id": "aba0d936"
      },
      "outputs": [],
      "source": [
        "import numpy as np\n",
        "from numpy import random\n",
        "import matplotlib.pyplot as plt\n"
      ]
    },
    {
      "cell_type": "markdown",
      "source": [
        "## Continuous Distributions"
      ],
      "metadata": {
        "id": "WORNTt8cblAz"
      },
      "id": "WORNTt8cblAz"
    },
    {
      "cell_type": "markdown",
      "source": [
        "### Triangular distribution\n",
        "Useful for approximating a few existing data points and estimating the minimum, mode, and maximum values. It allows modeling an asymmetric probabilistic structure. It is useful when there is limited availability of information, and it seems to exhibit less variability than the next distribution."
      ],
      "metadata": {
        "id": "MBiR-ku4boD7"
      },
      "id": "MBiR-ku4boD7"
    },
    {
      "cell_type": "code",
      "execution_count": 10,
      "id": "70cc3b7e",
      "metadata": {
        "id": "70cc3b7e",
        "outputId": "d4ded756-3b48-4154-fec5-b91d15d23eab",
        "colab": {
          "base_uri": "https://localhost:8080/",
          "height": 281
        }
      },
      "outputs": [
        {
          "output_type": "display_data",
          "data": {
            "image/png": "[encoded data removed]",
            "text/plain": [
              "<Figure size 432x288 with 1 Axes>"
            ]
          },
          "metadata": {
            "needs_background": "light"
          }
        }
      ],
      "source": [
        "import matplotlib.pyplot as plt\n",
        "h = plt.hist(np.random.triangular(2, 4, 6, 100000), bins=200,\n",
        "             density=True)\n",
        "plt.title(\"Triangular Distribution\")\n",
        "plt.show()"
      ]
    },
    {
      "cell_type": "markdown",
      "source": [
        "###Uniform distribution\n",
        "If there is limited available information and finite support, you will use this distribution instead of the triangular distribution. This distribution is easy to deal with analytically because it has the property that all values with the support (a, b) are equally likely. The only information available about some random variables is their support limits.3"
      ],
      "metadata": {
        "id": "yH9Ge2BXcGsC"
      },
      "id": "yH9Ge2BXcGsC"
    },
    {
      "cell_type": "code",
      "source": [
        "data = np.random.uniform(0,1,1000) # You are generating 1000 points between 0 and 1.\n",
        "count, bins, ignored = plt.hist(data, 20) \n",
        "\n",
        "plt.xlabel('X~U[0,1]')\n",
        "plt.ylabel('Count')\n",
        "plt.title(\"Uniform Distribution\")\n",
        "plt.axis([0, 1, 0, 100]) # x_start, x_end, y_start, y_end\n",
        "\n",
        "\n",
        "plt.show(block = False)"
      ],
      "metadata": {
        "colab": {
          "base_uri": "https://localhost:8080/",
          "height": 295
        },
        "id": "NpVvQy1EcSqS",
        "outputId": "6b0fd19e-be6f-4780-9fa1-105a1f7e7c8a"
      },
      "id": "NpVvQy1EcSqS",
      "execution_count": 11,
      "outputs": [
        {
          "output_type": "display_data",
          "data": {
            "image/png": "[encoded data removed]",
            "text/plain": [
              "<Figure size 432x288 with 1 Axes>"
            ]
          },
          "metadata": {
            "needs_background": "light"
          }
        }
      ]
    },
    {
      "cell_type": "markdown",
      "source": [
        "\n",
        "\n",
        "###Exponential distribution\n",
        "It is often used to model failure/breakdown for a component or a machine, time between two orders for construction materials, such as placing an order for tiles and bricks. In short, it is used to model any phenomenon with a positive value and a known mean. It has a memoryless property, so how long one has waited to finish the dig already is completely irrelevant when trying to predict how much longer we will have to wait to finish the digging.3"
      ],
      "metadata": {
        "id": "OK0hcAwecVBx"
      },
      "id": "OK0hcAwecVBx"
    },
    {
      "cell_type": "code",
      "execution_count": 12,
      "id": "d55de8eb",
      "metadata": {
        "id": "d55de8eb",
        "outputId": "8e978420-216e-4a85-8ea1-c9edaf4ef1f9",
        "colab": {
          "base_uri": "https://localhost:8080/",
          "height": 281
        }
      },
      "outputs": [
        {
          "output_type": "display_data",
          "data": {
            "image/png": "[encoded data removed]",
            "text/plain": [
              "<Figure size 432x288 with 1 Axes>"
            ]
          },
          "metadata": {
            "needs_background": "light"
          }
        }
      ],
      "source": [
        "# Exponential Distribution\n",
        "# Dig Foundation - Mean 4 days  \n",
        "h = plt.hist(np.random.exponential(scale = 4, size=10000),bins=200,\n",
        "             density=True)\n",
        "plt.title(\"Exponential Distribution\")\n",
        "plt.show()"
      ]
    },
    {
      "cell_type": "markdown",
      "source": [
        "## Beta Distribution\n",
        "\n",
        "The beta distribution is a family of continuous probability distributions defined on the interval [0, 1] parameterized by two positive shape parameters, denoted by α and β, that appear as exponents of the random variable and control the shape of the distribution\n",
        "The beta distribution has been applied to model the behavior of random variables limited to intervals of finite length in a wide variety of disciplines.\n",
        "\n",
        "https://en.wikipedia.org/wiki/Beta_distribution"
      ],
      "metadata": {
        "id": "iTwCCaagedzT"
      },
      "id": "iTwCCaagedzT"
    },
    {
      "cell_type": "code",
      "execution_count": 13,
      "id": "5161707d",
      "metadata": {
        "id": "5161707d",
        "outputId": "cff6afcf-1b7c-419f-bfbb-e49d57a57301",
        "colab": {
          "base_uri": "https://localhost:8080/",
          "height": 281
        }
      },
      "outputs": [
        {
          "output_type": "display_data",
          "data": {
            "image/png": "[encoded data removed]",
            "text/plain": [
              "<Figure size 432x288 with 1 Axes>"
            ]
          },
          "metadata": {
            "needs_background": "light"
          }
        }
      ],
      "source": [
        "# Beta Distribution\n",
        "# https://www.isixsigma.com/methodology/project-management/better-project-management-through-beta-distribution/\n",
        "# optimistic - a = 1\n",
        "# pessimistic - b = 10\n",
        "# most likely - m = 4\n",
        "# Dig Foundation - Mean 4 days  µ = a + 4m + b6\n",
        "# variance (b-a/6)^2\n",
        "h = plt.hist(random.beta(2,6, size=100000), bins=200,\n",
        "             density=True)\n",
        "plt.title(\"Beta Distribution\")\n",
        "plt.show()"
      ]
    },
    {
      "cell_type": "markdown",
      "source": [
        "## Discrete Distributions"
      ],
      "metadata": {
        "id": "qq3mpOQYdEkq"
      },
      "id": "qq3mpOQYdEkq"
    },
    {
      "cell_type": "markdown",
      "source": [
        "### Poisson Distribution\n",
        "This is most frequently used to represent the occurrence of a random number of events in a given time period. Since construction projects are fraught with variability in the construction process, the poisson distribution might help explicitly consider the effect of random changes in event durations. "
      ],
      "metadata": {
        "id": "HPHmvQpNdWrh"
      },
      "id": "HPHmvQpNdWrh"
    },
    {
      "cell_type": "code",
      "execution_count": 14,
      "id": "90556fd4",
      "metadata": {
        "id": "90556fd4",
        "outputId": "0b7d4f03-4365-47ef-961a-b10950a4f962",
        "colab": {
          "base_uri": "https://localhost:8080/",
          "height": 281
        }
      },
      "outputs": [
        {
          "output_type": "display_data",
          "data": {
            "image/png": "[encoded data removed]",
            "text/plain": [
              "<Figure size 432x288 with 1 Axes>"
            ]
          },
          "metadata": {
            "needs_background": "light"
          }
        }
      ],
      "source": [
        "# Poisson Distribution\n",
        "h = plt.hist(np.random.poisson(lam=4, size=10000),\n",
        "             density=True,histtype='bar')\n",
        "plt.title(\"Poisson Distribution\")\n",
        "plt.show()"
      ]
    },
    {
      "cell_type": "markdown",
      "source": [
        "###Negative Binomial\n",
        "In probability theory and statistics, the negative binomial distribution is a discrete probability distribution that models the number of successes in a sequence of independent and identically distributed Bernoulli trials before a specified (non-random) number of failures (denoted r) occurs.\n",
        "\n",
        "Weisstein, Eric. \"Negative Binomial Distribution\". Wolfram MathWorld. Wolfram Research. Retrieved 11 October 2020. https://mathworld.wolfram.com/NegativeBinomialDistribution.html"
      ],
      "metadata": {
        "id": "KwQ2UIHrdAUB"
      },
      "id": "KwQ2UIHrdAUB"
    },
    {
      "cell_type": "code",
      "execution_count": 15,
      "id": "33dbba4e",
      "metadata": {
        "id": "33dbba4e",
        "outputId": "64489507-0573-4a3a-804e-c4f4135edb29",
        "colab": {
          "base_uri": "https://localhost:8080/",
          "height": 281
        }
      },
      "outputs": [
        {
          "output_type": "display_data",
          "data": {
            "image/png": "[encoded data removed]",
            "text/plain": [
              "<Figure size 432x288 with 1 Axes>"
            ]
          },
          "metadata": {
            "needs_background": "light"
          }
        }
      ],
      "source": [
        "# Negative Binomial\n",
        "# Dig Foundation - Mean 4 days\n",
        "\n",
        "h = plt.hist(np.random.negative_binomial(4*0.7, 0.7, 100000),\n",
        "             density=True,histtype='bar')\n",
        "plt.title(\"Negative Binomial Distribution\")\n",
        "plt.show()"
      ]
    },
    {
      "cell_type": "markdown",
      "source": [
        "### Bernoulli Distribution\n",
        "If we are finding out that we are dealing with a lot of binary events such as quality issues with the work or material, then I would recommend this distribution.3 "
      ],
      "metadata": {
        "id": "kGF__Y0lfDNB"
      },
      "id": "kGF__Y0lfDNB"
    },
    {
      "cell_type": "code",
      "execution_count": 20,
      "id": "d8964c56",
      "metadata": {
        "id": "d8964c56",
        "colab": {
          "base_uri": "https://localhost:8080/",
          "height": 281
        },
        "outputId": "395a949f-7292-46ce-8573-f0478a0aeb33"
      },
      "outputs": [
        {
          "output_type": "display_data",
          "data": {
            "image/png": "[encoded data removed]",
            "text/plain": [
              "<Figure size 432x288 with 1 Axes>"
            ]
          },
          "metadata": {
            "needs_background": "light"
          }
        }
      ],
      "source": [
        "from scipy.stats import bernoulli\n",
        "\n",
        "bd = bernoulli(0.7)\n",
        "X = [0, 1]\n",
        "\n",
        "plt.bar(X, bd.pmf(X))\n",
        "plt.title('Bernoulli Distribution')\n",
        "\n",
        "plt.show()\n"
      ]
    },
    {
      "cell_type": "markdown",
      "source": [
        "### Fixed Value Distibution\n",
        "This is not really a distribution. It is a fixed value applied acoss the distribution.\n",
        "\n",
        "An example would be  a promise that a fund will pay either a fixed percentage of its assets or a fixed dollar amount on a regular basis.\n",
        "Vishal Mansukhani \"Fixed distributions: The good, the bad and the ugly\" Sept 2014. Morningstar.ca. https://www.morningstar.ca/ca/news/190938/fixed-distributions-the-good-the-bad-and-the-ugly.aspx#:~:text=Fixed%20distributions%20are%20a%20promise,they%20provide%20a%20regular%20paycheck."
      ],
      "metadata": {
        "id": "HXohLs8ffP86"
      },
      "id": "HXohLs8ffP86"
    }
  ],
  "metadata": {
    "kernelspec": {
      "display_name": "Python 3",
      "language": "python",
      "name": "python3"
    },
    "language_info": {
      "codemirror_mode": {
        "name": "ipython",
        "version": 3
      },
      "file_extension": ".py",
      "mimetype": "text/x-python",
      "name": "python",
      "nbconvert_exporter": "python",
      "pygments_lexer": "ipython3",
      "version": "3.8.3"
    },
    "colab": {
      "name": "Assignment 4 Q2 ST Illustrations.ipynb",
      "provenance": [],
      "collapsed_sections": [],
      "include_colab_link": true
    }
  },
  "nbformat": 4,
  "nbformat_minor": 5
}