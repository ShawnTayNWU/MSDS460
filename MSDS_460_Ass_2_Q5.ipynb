{
  "nbformat": 4,
  "nbformat_minor": 0,
  "metadata": {
    "colab": {
      "name": "MSDS 460 Ass 2 Q5.ipynb",
      "provenance": [],
      "collapsed_sections": [],
      "authorship_tag": "ABX9TyMRMyIudzMA9PkHW40OMSSt",
      "include_colab_link": true
    },
    "kernelspec": {
      "name": "python3",
      "display_name": "Python 3"
    },
    "language_info": {
      "name": "python"
    }
  },
  "cells": [
    {
      "cell_type": "markdown",
      "metadata": {
        "id": "view-in-github",
        "colab_type": "text"
      },
      "source": [
        "<a href=\"https://colab.research.google.com/github/ShawnTayNWU/MSDS460/blob/Assignments/MSDS_460_Ass_2_Q5.ipynb\" target=\"_parent\"><img src=\"https://colab.research.google.com/assets/colab-badge.svg\" alt=\"Open In Colab\"/></a>"
      ]
    },
    {
      "cell_type": "markdown",
      "source": [
        "#### Question 5\n"
      ],
      "metadata": {
        "id": "2Wl45a6yFwfr"
      }
    },
    {
      "cell_type": "markdown",
      "source": [
        "Example 5.7 Finding a critical path in a project from Williams (2013, pages 95-96) is an example of a network problem. Following Williams’ lead, set up the problem in your preferred platform for mathematical programming, solve the problem, and check your solution against the reported solution in the textbook. Describe how you might use methods like these in project management."
      ],
      "metadata": {
        "id": "XIAd1bthF17a"
      }
    },
    {
      "cell_type": "markdown",
      "source": [
        "#### Only for Google Colab: Need to install non standard package each time"
      ],
      "metadata": {
        "id": "PHavUZs8FW9J"
      }
    },
    {
      "cell_type": "code",
      "source": [
        "!pip install pulp #Run this only the first time, no need to install each time"
      ],
      "metadata": {
        "colab": {
          "base_uri": "https://localhost:8080/"
        },
        "id": "w5wQ3SrB631E",
        "outputId": "1c210e3b-05da-40c5-bbdf-35f77855921e"
      },
      "execution_count": 17,
      "outputs": [
        {
          "output_type": "stream",
          "name": "stdout",
          "text": [
            "Requirement already satisfied: pulp in /usr/local/lib/python3.7/dist-packages (2.6.0)\n"
          ]
        }
      ]
    },
    {
      "cell_type": "markdown",
      "source": [
        "#### Import Libraries"
      ],
      "metadata": {
        "id": "CKUG5ZGuFf6T"
      }
    },
    {
      "cell_type": "code",
      "source": [
        "# import the library pulp as p\n",
        "import pulp as p\n",
        "# import pulp\n",
        "from pulp import LpVariable, LpProblem, LpMaximize, LpStatus, value, LpMinimize, GLPK\n",
        "\n",
        "  "
      ],
      "metadata": {
        "id": "W7kRDhxm7EFF"
      },
      "execution_count": 19,
      "outputs": []
    },
    {
      "cell_type": "markdown",
      "source": [
        "#### Define Problem"
      ],
      "metadata": {
        "id": "dnMTOyUdFk7D"
      }
    },
    {
      "cell_type": "code",
      "execution_count": 20,
      "metadata": {
        "colab": {
          "base_uri": "https://localhost:8080/"
        },
        "id": "tA-dKT6-5CSP",
        "outputId": "8dc7b05a-95c0-41e8-83ed-2ef56f7dcaa8"
      },
      "outputs": [
        {
          "output_type": "stream",
          "name": "stdout",
          "text": [
            "Problem:\n",
            "MINIMIZE\n",
            "1*t0 + 1*t1 + 1*t2 + 1*t3 + 1*t4 + 1*t5 + 1*z + 0\n",
            "SUBJECT TO\n",
            "_C1: - t0 + t1 >= 4\n",
            "\n",
            "_C2: - t0 + t2 >= 12\n",
            "\n",
            "_C3: - t0 + t3 >= 7\n",
            "\n",
            "_C4: - t1 + t3 >= 2\n",
            "\n",
            "_C5: - t3 + t4 >= 10\n",
            "\n",
            "_C6: t2 - t4 >= 0\n",
            "\n",
            "_C7: - t2 + t5 >= 5\n",
            "\n",
            "_C8: - t4 + t5 >= 3\n",
            "\n",
            "_C9: - t5 + z >= 4\n",
            "\n",
            "VARIABLES\n",
            "0 <= t0 Integer\n",
            "0 <= t1 Integer\n",
            "0 <= t2 Integer\n",
            "0 <= t3 Integer\n",
            "0 <= t4 Integer\n",
            "0 <= t5 Integer\n",
            "0 <= z Integer\n",
            "\n"
          ]
        }
      ],
      "source": [
        " # Create a LP Minimizationn problem\n",
        "Lp_prob = p.LpProblem('Problem', p.LpMinimize) \n",
        "\n",
        "# Create problem Variables \n",
        "t0 = p.LpVariable(\"t0\", lowBound = 0, cat='Integer')  # Start time for activities 0-1,0-3, 0-2\n",
        "t1 = p.LpVariable(\"t1\", lowBound = 0, cat='Integer')  # Start time for activities 1-3\n",
        "t2 = p.LpVariable(\"t2\", lowBound = 0, cat='Integer')  # Start time for activities 2-5\n",
        "t3 = p.LpVariable(\"t3\", lowBound = 0, cat='Integer')  # Start time for activities 3-4\n",
        "t4 = p.LpVariable(\"t4\", lowBound = 0, cat='Integer')  # Start time for activities 4-2, 4-5\n",
        "t5 = p.LpVariable(\"t5\", lowBound = 0, cat='Integer')  # Start time for activities 5-6\n",
        "z = p.LpVariable(\"z\", lowBound = 0, cat='Integer')    # Finish time\n",
        "\n",
        "# Objective Function\n",
        "Lp_prob += t0+t1+t2+t3+t4+t5+z\n",
        "\n",
        "# Constraints:\n",
        "Lp_prob += -t0+t1>=4         # 0-1                                                \n",
        "Lp_prob += -t0+t2>=12        # 0-2\n",
        "Lp_prob += -t0+t3>=7         # 0-3\n",
        "Lp_prob += -t1+t3>=2         # 1-3\n",
        "Lp_prob += -t3+t4>=10        # 3-4\n",
        "Lp_prob += t2-t4>=0          # 4-2\n",
        "Lp_prob += -t2+t5>=5         # 2-5\n",
        "Lp_prob += -t4+t5>=3         # 4-5\n",
        "Lp_prob += -t5+z>=4          # 5-6\n",
        "\n",
        "# Display the problem\n",
        "print(Lp_prob)"
      ]
    },
    {
      "cell_type": "code",
      "source": [
        "# Solve the problem\n",
        "status = Lp_prob.solve()\n",
        "print(f\"Problem 5\")\n",
        "print(f\"status={p.LpStatus[status]}\")\n",
        "\n",
        "# Print the results\n",
        "for variable in Lp_prob.variables():\n",
        "    print(f\"{variable.name} = {variable.varValue}\")\n",
        "    \n",
        "print(f\"Objective = {p.value(Lp_prob.objective)}\")\n",
        "print(f\"\")"
      ],
      "metadata": {
        "colab": {
          "base_uri": "https://localhost:8080/"
        },
        "id": "iJAOAoPp7Q5D",
        "outputId": "23042714-4f69-41a4-8591-15b90ffcf0e4"
      },
      "execution_count": 21,
      "outputs": [
        {
          "output_type": "stream",
          "name": "stdout",
          "text": [
            "Problem 5\n",
            "status=Optimal\n",
            "t0 = 0.0\n",
            "t1 = 4.0\n",
            "t2 = 17.0\n",
            "t3 = 7.0\n",
            "t4 = 17.0\n",
            "t5 = 22.0\n",
            "z = 26.0\n",
            "Objective = 93.0\n",
            "\n"
          ]
        }
      ]
    },
    {
      "cell_type": "markdown",
      "source": [
        "#### Generate Sensitivity files. this only works with Jupyter notebook, not google colab"
      ],
      "metadata": {
        "id": "8MR8bgdaF7V5"
      }
    },
    {
      "cell_type": "code",
      "source": [
        "# Output Results and Sensitivity\n",
        "Lp_prob.writeLP(\"Ass2Q5.lp\")\n",
        "Lp_prob.solve(GLPK(options=['--ranges Ass2Q5.sen']))\n",
        "print (\"Status:\", LpStatus[Lp_prob.status])\n",
        "\n",
        "for v in Lp_prob.variables():\n",
        "    print(v.name, \"=\", v.varValue)\n",
        "\n",
        "print (\"Objective\", value(Lp_prob.objective))\n",
        "print (\"\")"
      ],
      "metadata": {
        "id": "UuuIAu0DFDYQ"
      },
      "execution_count": null,
      "outputs": []
    }
  ]
}