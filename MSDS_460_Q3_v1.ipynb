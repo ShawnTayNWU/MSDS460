{
  "nbformat": 4,
  "nbformat_minor": 0,
  "metadata": {
    "colab": {
      "name": "MSDS 460 Q3 v1.ipynb",
      "provenance": [],
      "collapsed_sections": [],
      "authorship_tag": "ABX9TyOePD7g++o6rG9N95mWlKPI",
      "include_colab_link": true
    },
    "kernelspec": {
      "name": "python3",
      "display_name": "Python 3"
    },
    "language_info": {
      "name": "python"
    }
  },
  "cells": [
    {
      "cell_type": "markdown",
      "metadata": {
        "id": "view-in-github",
        "colab_type": "text"
      },
      "source": [
        "<a href=\"https://colab.research.google.com/github/ShawnTayNWU/MSDS460/blob/Assignments/MSDS_460_Q3_v1.ipynb\" target=\"_parent\"><img src=\"https://colab.research.google.com/assets/colab-badge.svg\" alt=\"Open In Colab\"/></a>"
      ]
    },
    {
      "cell_type": "markdown",
      "source": [
        "## MSDS 460 Assignment 4 Question 3\n",
        "This is code generated to answer assignment 4 question 3"
      ],
      "metadata": {
        "id": "KXEr_wDlCiUU"
      }
    },
    {
      "cell_type": "markdown",
      "source": [
        "Mount Google Drive"
      ],
      "metadata": {
        "id": "yaUw3WpDECPR"
      }
    },
    {
      "cell_type": "code",
      "source": [
        "from google.colab import drive\n",
        "drive.mount('/content/gdrive')"
      ],
      "metadata": {
        "colab": {
          "base_uri": "https://localhost:8080/"
        },
        "id": "jGCIhpzLDRYR",
        "outputId": "6048f614-2d43-4b3e-cbc4-d3cdf4049c6a"
      },
      "execution_count": 1,
      "outputs": [
        {
          "output_type": "stream",
          "name": "stdout",
          "text": [
            "Mounted at /content/gdrive\n"
          ]
        }
      ]
    },
    {
      "cell_type": "markdown",
      "source": [
        "Install and Import Packages"
      ],
      "metadata": {
        "id": "6EXe4YiACxiR"
      }
    },
    {
      "cell_type": "code",
      "source": [
        "!pip install simpy"
      ],
      "metadata": {
        "colab": {
          "base_uri": "https://localhost:8080/"
        },
        "id": "WwuS3ACDDLUh",
        "outputId": "0e25ea22-e9ff-4301-bafa-eec02ac3ce11"
      },
      "execution_count": 2,
      "outputs": [
        {
          "output_type": "stream",
          "name": "stdout",
          "text": [
            "Collecting simpy\n",
            "  Downloading simpy-4.0.1-py2.py3-none-any.whl (29 kB)\n",
            "Installing collected packages: simpy\n",
            "Successfully installed simpy-4.0.1\n"
          ]
        }
      ]
    },
    {
      "cell_type": "code",
      "source": [
        "import itertools\n",
        "import random\n",
        "\n",
        "\n",
        "import random\n",
        "\n",
        "import numpy as np # for random number distributions\n",
        "import pandas as pd # for event_log data frame\n",
        "pd.set_option('display.max_rows', 20)\n",
        "pd.set_option('display.max_columns', 10)\n",
        "import simpy # discrete event simulation environment\n",
        "from sympy.utilities.iterables import multiset_permutations  # generator"
      ],
      "metadata": {
        "id": "oyN_6d6REOqu"
      },
      "execution_count": 3,
      "outputs": []
    },
    {
      "cell_type": "markdown",
      "source": [
        "Set up Inputs"
      ],
      "metadata": {
        "id": "uXlNH1BGErsr"
      }
    },
    {
      "cell_type": "code",
      "source": [
        "RANDOM_SEED =  50\n",
        "MATERIAL_LEVEL = [5, 25]   # assumed materials min and max\n",
        "Worker_Speed = 2           # worker speed per hour\n",
        "T_INTER = [30, 301]        # start a work every [min, max] seconds        \n",
        "SIM_TIME = 100350\n",
        "simulation_runs = 10       # the number of home-building projects\n",
        "\n",
        "\n",
        "total_workers_by_activity_Q3 = [ 1,  1,  1, 1,  1,   1,   1, 1]  # number of workers needed\n",
        "total_workers_by_activity_Q4a = [ 1,  1,  1, 1,  1,   2,   2, 1]  # number of workers needed\n",
        "total_workers_by_activity_Q4b = [ 1,  3,  4, 1,  1,   2,   2, 1]  # number of workers needed\n",
        "\n",
        "list_workers = [total_workers_by_activity_Q3,total_workers_by_activity_Q4a, total_workers_by_activity_Q4b ]"
      ],
      "metadata": {
        "id": "aNpxq_4AEv5L"
      },
      "execution_count": null,
      "outputs": []
    },
    {
      "cell_type": "markdown",
      "source": [
        "Set up simulation paramters"
      ],
      "metadata": {
        "id": "_5-GRkXKE-j3"
      }
    },
    {
      "cell_type": "code",
      "source": [
        "def calculate_mode_by_trace(trace): \n",
        "    \n",
        "    mode = []\n",
        "    for x in range(len(trace)):\n",
        "        if trace[x] == 'dig':\n",
        "            mode.append(4)\n",
        "        elif trace[x] == 'bricks':\n",
        "            mode.append(7)\n",
        "        elif trace[x] == 'tiles':\n",
        "            mode.append(12)\n",
        "        elif trace[x] == 'lay':\n",
        "            mode.append(2)\n",
        "        elif trace[x] == 'walls':\n",
        "            mode.append(10)\n",
        "        elif trace[x] == 'wiring':\n",
        "            mode.append(5)\n",
        "        elif trace[x] == 'roofing':\n",
        "            mode.append(3)\n",
        "        else:\n",
        "            mode.append(4)\n",
        "            \n",
        "    return mode\n",
        "#[2, 3.5,  6, 1,  5, 2.5, 1.5, 2]\n",
        "def calculate_minima_by_trace(trace): \n",
        "    \n",
        "    minima = []\n",
        "    for x in range(len(trace)):\n",
        "        if trace[x] == 'dig':\n",
        "            minima.append(2)\n",
        "        elif trace[x] == 'bricks':\n",
        "            minima.append(3.5)\n",
        "        elif trace[x] == 'tiles':\n",
        "            minima.append(6)\n",
        "        elif trace[x] == 'lay':\n",
        "            minima.append(1)\n",
        "        elif trace[x] == 'walls':\n",
        "            minima.append(5)\n",
        "        elif trace[x] == 'wiring':\n",
        "            minima.append(2.5)\n",
        "        elif trace[x] == 'roofing':\n",
        "            minima.append(1.5)\n",
        "        else:\n",
        "            minima.append(2)\n",
        "            \n",
        "    return minima\n",
        "#[8,  14, 24, 4, 20,  10,   6, 8]\n",
        "def calculate_maxima_by_trace(trace): \n",
        "    \n",
        "    maxima = []\n",
        "    for x in range(len(trace)):\n",
        "        if trace[x] == 'dig':\n",
        "            maxima.append(8)\n",
        "        elif trace[x] == 'bricks':\n",
        "            maxima.append(14)\n",
        "        elif trace[x] == 'tiles':\n",
        "            maxima.append(24)\n",
        "        elif trace[x] == 'lay':\n",
        "            maxima.append(4)\n",
        "        elif trace[x] == 'walls':\n",
        "            maxima.append(20)\n",
        "        elif trace[x] == 'wiring':\n",
        "            maxima.append(10)\n",
        "        elif trace[x] == 'roofing':\n",
        "            maxima.append(6)\n",
        "        else:\n",
        "            maxima.append(8)\n",
        "            \n",
        "    return maxima\n",
        "\n",
        "\n",
        "\n",
        "def print_end(num_worker, time_spent, name, end_time):\n",
        "    if num_worker == 1:\n",
        "        print('\\t\\t%s worker ends work at %.1f seconds.' % (num_worker, time_spent))\n",
        "    else:\n",
        "        print('\\t\\t%s workers ends work at %.1f seconds.' % (num_worker, time_spent))\n",
        "        \n",
        "    print('\\tEnd %s activity at %.1f end time and took  %.1f seconds.\\n' % (name, end_time,\n",
        "                                                      time_spent))\n",
        "    \n",
        "    \n",
        "    \n",
        "def print_start(num_worker, start):\n",
        "    if num_worker == 1:\n",
        "        print('\\t\\t%s worker starts works at %.1f seconds.' % (num_worker, start))\n",
        "    else:\n",
        "        print('\\t\\t%s workers starts works at %.1f seconds.' % (num_worker, start))\n",
        "        \n",
        "        \n",
        "\n",
        "def service_process(name, env, station, row, index, trace_list):\n",
        "\n",
        "    random.randint(*MATERIAL_LEVEL)\n",
        "    #print('\\tStart %s activity at %.1f.' % (name, env.now))\n",
        "    with station.request() as req:\n",
        "        start = env.now\n",
        "        #print_start(row['nworkers'], start)\n",
        "\n",
        "        yield req\n",
        "\n",
        "        env.timeout(1)\n",
        "        \n",
        "        left  = row['minimum']\n",
        "        mode  = row['mode']\n",
        "        right = row['maximum']\n",
        "        \n",
        "        this_service_time = np.random.triangular(left, mode, right, size=1)\n",
        "        yield env.timeout(this_service_time / Worker_Speed)\n",
        "        \n",
        "        time_spent = env.now - start\n",
        "        #Add to dataframe\n",
        "        trace_list.append([index,name, round(time_spent[0],2)])\n",
        "        #print_end(row['nworkers'],time_spent, name, env.now )\n",
        "\n",
        "def start(env, station, df, trace_list):\n",
        "    \n",
        "    x = 0\n",
        "    while True: \n",
        "        \n",
        "     yield env.timeout(0)\n",
        "     \n",
        "     x +=1\n",
        "     #print('Home Construction Simulation ' + str(x))\n",
        "     \n",
        "     for index, row in df.iterrows():\n",
        "        yield env.timeout(random.randint(*T_INTER))\n",
        "        env.process(service_process(row['activity'], env, station, row, x, trace_list))\n",
        "        \n",
        "        if row['activity'] == 'painting':\n",
        "           yield env.timeout(random.randint(*T_INTER))\n",
        "           #print('\\n')"
      ],
      "metadata": {
        "id": "6g-VNC7hFDI3"
      },
      "execution_count": null,
      "outputs": []
    },
    {
      "cell_type": "markdown",
      "source": [
        "Run Simulation"
      ],
      "metadata": {
        "id": "VYBOHJunFJ3n"
      }
    },
    {
      "cell_type": "code",
      "source": [
        "# Setup and start the simulation\n",
        "#print('Home Construction Simulation')\n",
        "random.seed(RANDOM_SEED)\n",
        "final_list = []\n",
        "\n",
        "\n",
        "\n",
        "#print(random.randint(*T_INTER))\n",
        "# Create environment and start processes\n",
        "\n",
        "\n",
        "# one-word identifiers for home building activities\n",
        "activities = ['dig','bricks','tiles', 'lay', 'walls', 'wiring', 'roofing', \n",
        "'painting']    \n",
        "all_traces = [] # initialize list of lists\n",
        "valid_traces = []  # initialize list of lists\n",
        "for trace in multiset_permutations(activities):\n",
        "    all_traces.append(trace)\n",
        "    # identify locations of activities in the trace\n",
        "    dig_index = trace.index('dig') \n",
        "    bricks_index = trace.index('bricks') \n",
        "    tiles_index = trace.index('tiles') \n",
        "    lay_index = trace.index('lay')\n",
        "    walls_index = trace.index('walls') \n",
        "    wiring_index = trace.index('wiring')\n",
        "    roofing_index = trace.index('roofing')\n",
        "    painting_index = trace.index('painting')\n",
        "    if (dig_index == 0 or bricks_index == 0 or tiles_index == 0)\\\n",
        "    and (dig_index < lay_index)\\\n",
        "    and (lay_index < walls_index)\\\n",
        "    and (bricks_index < walls_index)\\\n",
        "    and (walls_index < wiring_index)\\\n",
        "    and (tiles_index < roofing_index)\\\n",
        "    and (walls_index < roofing_index)\\\n",
        "    and (wiring_index < painting_index)\\\n",
        "    and (roofing_index < painting_index):\n",
        "        valid_traces.append(trace)\n",
        "\n",
        "\n",
        "for worker in list_workers:\n",
        "    \n",
        "    for this_trace in valid_traces:\n",
        "    \n",
        "        minima = calculate_minima_by_trace(this_trace)\n",
        "        modes  = calculate_mode_by_trace(this_trace)\n",
        "        maxima = calculate_maxima_by_trace(this_trace)\n",
        "    \n",
        "    \n",
        "        df_info = pd.DataFrame({'activity': this_trace,\n",
        "                                 'minimum': minima,\n",
        "                                 'mode': modes,\n",
        "                                 'maximum': maxima,\n",
        "                                 'nworkers': worker})\n",
        "        overall_list = []\n",
        "    \n",
        "    \n",
        "\n",
        "        column_names = [\"Simulation Index\", \"activity\", \"runtime\"]\n",
        "        #print(this_trace)\n",
        "        env = simpy.Environment()\n",
        "        activity_station = simpy.Resource(env, 8)\n",
        "        env.process(start(env, activity_station,df_info, overall_list))\n",
        "\n",
        "        # Execute!\n",
        "        env.run(until=SIM_TIME)\n",
        "\n",
        "        df = pd.DataFrame(overall_list)\n",
        "        df.columns = column_names\n",
        "\n",
        "        df2 = df.groupby(\n",
        "            ['Simulation Index'], as_index=False).agg({'runtime':sum})\n",
        "\n",
        "        df2 = df2.rename(columns={\"runtime\": \"sum\"})\n",
        "        overall_mean = df2[\"sum\"].mean()\n",
        "        trace_row = [this_trace,worker,minima,modes,maxima,  65, overall_mean]\n",
        "\n",
        "        final_list.append(trace_row)"
      ],
      "metadata": {
        "id": "UctScgBUFX7H"
      },
      "execution_count": null,
      "outputs": []
    },
    {
      "cell_type": "markdown",
      "source": [
        "Generate Outputs"
      ],
      "metadata": {
        "id": "0mZ761MFFZdn"
      }
    },
    {
      "cell_type": "code",
      "execution_count": 4,
      "metadata": {
        "colab": {
          "base_uri": "https://localhost:8080/"
        },
        "id": "Lxp2SvqqCNsv",
        "outputId": "12270a81-7fe9-40ae-9f48-08af13fe4e49"
      },
      "outputs": [
        {
          "output_type": "stream",
          "name": "stdout",
          "text": [
            "                                       Trace Activity  \\\n",
            "0   [bricks, dig, lay, tiles, walls, roofing, wiri...   \n",
            "1   [bricks, dig, lay, tiles, walls, wiring, roofi...   \n",
            "2   [bricks, dig, lay, walls, tiles, roofing, wiri...   \n",
            "3   [bricks, dig, lay, walls, tiles, wiring, roofi...   \n",
            "4   [bricks, dig, lay, walls, wiring, tiles, roofi...   \n",
            "..                                                ...   \n",
            "28  [tiles, bricks, dig, lay, walls, wiring, roofi...   \n",
            "29  [tiles, dig, bricks, lay, walls, roofing, wiri...   \n",
            "30  [tiles, dig, bricks, lay, walls, wiring, roofi...   \n",
            "31  [tiles, dig, lay, bricks, walls, roofing, wiri...   \n",
            "32  [tiles, dig, lay, bricks, walls, wiring, roofi...   \n",
            "\n",
            "   Total Number of workers By Trace Activity                          Minima  \\\n",
            "0                   [1, 1, 1, 1, 1, 1, 1, 1]  [3.5, 2, 1, 6, 5, 1.5, 2.5, 2]   \n",
            "1                   [1, 1, 1, 1, 1, 1, 1, 1]  [3.5, 2, 1, 6, 5, 2.5, 1.5, 2]   \n",
            "2                   [1, 1, 1, 1, 1, 1, 1, 1]  [3.5, 2, 1, 5, 6, 1.5, 2.5, 2]   \n",
            "3                   [1, 1, 1, 1, 1, 1, 1, 1]  [3.5, 2, 1, 5, 6, 2.5, 1.5, 2]   \n",
            "4                   [1, 1, 1, 1, 1, 1, 1, 1]  [3.5, 2, 1, 5, 2.5, 6, 1.5, 2]   \n",
            "..                                       ...                             ...   \n",
            "28                  [1, 1, 1, 1, 1, 1, 1, 1]  [6, 3.5, 2, 1, 5, 2.5, 1.5, 2]   \n",
            "29                  [1, 1, 1, 1, 1, 1, 1, 1]  [6, 2, 3.5, 1, 5, 1.5, 2.5, 2]   \n",
            "30                  [1, 1, 1, 1, 1, 1, 1, 1]  [6, 2, 3.5, 1, 5, 2.5, 1.5, 2]   \n",
            "31                  [1, 1, 1, 1, 1, 1, 1, 1]  [6, 2, 1, 3.5, 5, 1.5, 2.5, 2]   \n",
            "32                  [1, 1, 1, 1, 1, 1, 1, 1]  [6, 2, 1, 3.5, 5, 2.5, 1.5, 2]   \n",
            "\n",
            "                         Modes                        Maxima  Overall Runs  \\\n",
            "0   [7, 4, 2, 12, 10, 3, 5, 4]  [14, 8, 4, 24, 20, 6, 10, 8]            65   \n",
            "1   [7, 4, 2, 12, 10, 5, 3, 4]  [14, 8, 4, 24, 20, 10, 6, 8]            65   \n",
            "2   [7, 4, 2, 10, 12, 3, 5, 4]  [14, 8, 4, 20, 24, 6, 10, 8]            65   \n",
            "3   [7, 4, 2, 10, 12, 5, 3, 4]  [14, 8, 4, 20, 24, 10, 6, 8]            65   \n",
            "4   [7, 4, 2, 10, 5, 12, 3, 4]  [14, 8, 4, 20, 10, 24, 6, 8]            65   \n",
            "..                         ...                           ...           ...   \n",
            "28  [12, 7, 4, 2, 10, 5, 3, 4]  [24, 14, 8, 4, 20, 10, 6, 8]            65   \n",
            "29  [12, 4, 7, 2, 10, 3, 5, 4]  [24, 8, 14, 4, 20, 6, 10, 8]            65   \n",
            "30  [12, 4, 7, 2, 10, 5, 3, 4]  [24, 8, 14, 4, 20, 10, 6, 8]            65   \n",
            "31  [12, 4, 2, 7, 10, 3, 5, 4]  [24, 8, 4, 14, 20, 6, 10, 8]            65   \n",
            "32  [12, 4, 2, 7, 10, 5, 3, 4]  [24, 8, 4, 14, 20, 10, 6, 8]            65   \n",
            "\n",
            "    Mean Simulation Run  \n",
            "0             27.615385  \n",
            "1             26.899118  \n",
            "2             27.537353  \n",
            "3             27.233571  \n",
            "4             27.443857  \n",
            "..                  ...  \n",
            "28            26.950597  \n",
            "29            27.230294  \n",
            "30            27.491970  \n",
            "31            27.481642  \n",
            "32            27.520000  \n",
            "\n",
            "[33 rows x 7 columns]\n",
            "                                       Trace Activity  \\\n",
            "0   [bricks, dig, lay, tiles, walls, roofing, wiri...   \n",
            "1   [bricks, dig, lay, tiles, walls, wiring, roofi...   \n",
            "2   [bricks, dig, lay, walls, tiles, roofing, wiri...   \n",
            "3   [bricks, dig, lay, walls, tiles, wiring, roofi...   \n",
            "4   [bricks, dig, lay, walls, wiring, tiles, roofi...   \n",
            "..                                                ...   \n",
            "61  [tiles, bricks, dig, lay, walls, wiring, roofi...   \n",
            "62  [tiles, dig, bricks, lay, walls, roofing, wiri...   \n",
            "63  [tiles, dig, bricks, lay, walls, wiring, roofi...   \n",
            "64  [tiles, dig, lay, bricks, walls, roofing, wiri...   \n",
            "65  [tiles, dig, lay, bricks, walls, wiring, roofi...   \n",
            "\n",
            "   Total Number of workers By Trace Activity                          Minima  \\\n",
            "0                   [1, 1, 1, 1, 1, 1, 1, 1]  [3.5, 2, 1, 6, 5, 1.5, 2.5, 2]   \n",
            "1                   [1, 1, 1, 1, 1, 1, 1, 1]  [3.5, 2, 1, 6, 5, 2.5, 1.5, 2]   \n",
            "2                   [1, 1, 1, 1, 1, 1, 1, 1]  [3.5, 2, 1, 5, 6, 1.5, 2.5, 2]   \n",
            "3                   [1, 1, 1, 1, 1, 1, 1, 1]  [3.5, 2, 1, 5, 6, 2.5, 1.5, 2]   \n",
            "4                   [1, 1, 1, 1, 1, 1, 1, 1]  [3.5, 2, 1, 5, 2.5, 6, 1.5, 2]   \n",
            "..                                       ...                             ...   \n",
            "61                  [1, 1, 1, 1, 1, 2, 2, 1]  [6, 3.5, 2, 1, 5, 2.5, 1.5, 2]   \n",
            "62                  [1, 1, 1, 1, 1, 2, 2, 1]  [6, 2, 3.5, 1, 5, 1.5, 2.5, 2]   \n",
            "63                  [1, 1, 1, 1, 1, 2, 2, 1]  [6, 2, 3.5, 1, 5, 2.5, 1.5, 2]   \n",
            "64                  [1, 1, 1, 1, 1, 2, 2, 1]  [6, 2, 1, 3.5, 5, 1.5, 2.5, 2]   \n",
            "65                  [1, 1, 1, 1, 1, 2, 2, 1]  [6, 2, 1, 3.5, 5, 2.5, 1.5, 2]   \n",
            "\n",
            "                         Modes                        Maxima  Overall Runs  \\\n",
            "0   [7, 4, 2, 12, 10, 3, 5, 4]  [14, 8, 4, 24, 20, 6, 10, 8]            65   \n",
            "1   [7, 4, 2, 12, 10, 5, 3, 4]  [14, 8, 4, 24, 20, 10, 6, 8]            65   \n",
            "2   [7, 4, 2, 10, 12, 3, 5, 4]  [14, 8, 4, 20, 24, 6, 10, 8]            65   \n",
            "3   [7, 4, 2, 10, 12, 5, 3, 4]  [14, 8, 4, 20, 24, 10, 6, 8]            65   \n",
            "4   [7, 4, 2, 10, 5, 12, 3, 4]  [14, 8, 4, 20, 10, 24, 6, 8]            65   \n",
            "..                         ...                           ...           ...   \n",
            "61  [12, 7, 4, 2, 10, 5, 3, 4]  [24, 14, 8, 4, 20, 10, 6, 8]            65   \n",
            "62  [12, 4, 7, 2, 10, 3, 5, 4]  [24, 8, 14, 4, 20, 6, 10, 8]            65   \n",
            "63  [12, 4, 7, 2, 10, 5, 3, 4]  [24, 8, 14, 4, 20, 10, 6, 8]            65   \n",
            "64  [12, 4, 2, 7, 10, 3, 5, 4]  [24, 8, 4, 14, 20, 6, 10, 8]            65   \n",
            "65  [12, 4, 2, 7, 10, 5, 3, 4]  [24, 8, 4, 14, 20, 10, 6, 8]            65   \n",
            "\n",
            "    Mean Simulation Run  \n",
            "0             27.615385  \n",
            "1             26.899118  \n",
            "2             27.537353  \n",
            "3             27.233571  \n",
            "4             27.443857  \n",
            "..                  ...  \n",
            "61            27.597647  \n",
            "62            27.737971  \n",
            "63            27.880290  \n",
            "64            27.275882  \n",
            "65            27.446912  \n",
            "\n",
            "[66 rows x 7 columns]\n",
            "                                       Trace Activity  \\\n",
            "0   [bricks, dig, lay, tiles, walls, roofing, wiri...   \n",
            "1   [bricks, dig, lay, tiles, walls, wiring, roofi...   \n",
            "2   [bricks, dig, lay, walls, tiles, roofing, wiri...   \n",
            "3   [bricks, dig, lay, walls, tiles, wiring, roofi...   \n",
            "4   [bricks, dig, lay, walls, wiring, tiles, roofi...   \n",
            "..                                                ...   \n",
            "94  [tiles, bricks, dig, lay, walls, wiring, roofi...   \n",
            "95  [tiles, dig, bricks, lay, walls, roofing, wiri...   \n",
            "96  [tiles, dig, bricks, lay, walls, wiring, roofi...   \n",
            "97  [tiles, dig, lay, bricks, walls, roofing, wiri...   \n",
            "98  [tiles, dig, lay, bricks, walls, wiring, roofi...   \n",
            "\n",
            "   Total Number of workers By Trace Activity                          Minima  \\\n",
            "0                   [1, 1, 1, 1, 1, 1, 1, 1]  [3.5, 2, 1, 6, 5, 1.5, 2.5, 2]   \n",
            "1                   [1, 1, 1, 1, 1, 1, 1, 1]  [3.5, 2, 1, 6, 5, 2.5, 1.5, 2]   \n",
            "2                   [1, 1, 1, 1, 1, 1, 1, 1]  [3.5, 2, 1, 5, 6, 1.5, 2.5, 2]   \n",
            "3                   [1, 1, 1, 1, 1, 1, 1, 1]  [3.5, 2, 1, 5, 6, 2.5, 1.5, 2]   \n",
            "4                   [1, 1, 1, 1, 1, 1, 1, 1]  [3.5, 2, 1, 5, 2.5, 6, 1.5, 2]   \n",
            "..                                       ...                             ...   \n",
            "94                  [1, 3, 4, 1, 1, 2, 2, 1]  [6, 3.5, 2, 1, 5, 2.5, 1.5, 2]   \n",
            "95                  [1, 3, 4, 1, 1, 2, 2, 1]  [6, 2, 3.5, 1, 5, 1.5, 2.5, 2]   \n",
            "96                  [1, 3, 4, 1, 1, 2, 2, 1]  [6, 2, 3.5, 1, 5, 2.5, 1.5, 2]   \n",
            "97                  [1, 3, 4, 1, 1, 2, 2, 1]  [6, 2, 1, 3.5, 5, 1.5, 2.5, 2]   \n",
            "98                  [1, 3, 4, 1, 1, 2, 2, 1]  [6, 2, 1, 3.5, 5, 2.5, 1.5, 2]   \n",
            "\n",
            "                         Modes                        Maxima  Overall Runs  \\\n",
            "0   [7, 4, 2, 12, 10, 3, 5, 4]  [14, 8, 4, 24, 20, 6, 10, 8]            65   \n",
            "1   [7, 4, 2, 12, 10, 5, 3, 4]  [14, 8, 4, 24, 20, 10, 6, 8]            65   \n",
            "2   [7, 4, 2, 10, 12, 3, 5, 4]  [14, 8, 4, 20, 24, 6, 10, 8]            65   \n",
            "3   [7, 4, 2, 10, 12, 5, 3, 4]  [14, 8, 4, 20, 24, 10, 6, 8]            65   \n",
            "4   [7, 4, 2, 10, 5, 12, 3, 4]  [14, 8, 4, 20, 10, 24, 6, 8]            65   \n",
            "..                         ...                           ...           ...   \n",
            "94  [12, 7, 4, 2, 10, 5, 3, 4]  [24, 14, 8, 4, 20, 10, 6, 8]            65   \n",
            "95  [12, 4, 7, 2, 10, 3, 5, 4]  [24, 8, 14, 4, 20, 6, 10, 8]            65   \n",
            "96  [12, 4, 7, 2, 10, 5, 3, 4]  [24, 8, 14, 4, 20, 10, 6, 8]            65   \n",
            "97  [12, 4, 2, 7, 10, 3, 5, 4]  [24, 8, 4, 14, 20, 6, 10, 8]            65   \n",
            "98  [12, 4, 2, 7, 10, 5, 3, 4]  [24, 8, 4, 14, 20, 10, 6, 8]            65   \n",
            "\n",
            "    Mean Simulation Run  \n",
            "0             27.615385  \n",
            "1             26.899118  \n",
            "2             27.537353  \n",
            "3             27.233571  \n",
            "4             27.443857  \n",
            "..                  ...  \n",
            "94            27.703623  \n",
            "95            26.955857  \n",
            "96            27.402714  \n",
            "97            26.745147  \n",
            "98            26.548382  \n",
            "\n",
            "[99 rows x 7 columns]\n"
          ]
        }
      ],
      "source": [
        "    #print(final_list)\n",
        "    #print('\\n')\n",
        "\n",
        "\n",
        "    df_final = pd.DataFrame(final_list)\n",
        "    df_final.columns = [\"Trace Activity\", 'Total Number of workers By Trace Activity','Minima','Modes','Maxima',\"Overall Runs\",\"Mean Simulation Run\"]\n",
        "\n",
        "    print(df_final)\n",
        "    if worker == [ 1,  1,  1, 1,  1,   1,   1, 1]:\n",
        "        df_final.to_csv('Assignment4_Q3.csv', index=False)\n",
        "    elif worker ==  [ 1,  1,  1, 1,  1,   2,   2, 1]:\n",
        "        df_final.to_csv('Assignment4_Q4a.csv', index=False)    \n",
        "    elif worker ==  [ 1,  3,  4, 1,  1,   2,   2, 1]:\n",
        "        df_final.to_csv('Assignment4_Q4b.csv', index=False)"
      ]
    },
    {
      "cell_type": "markdown",
      "source": [
        ""
      ],
      "metadata": {
        "id": "Sc4wVX46Cgll"
      }
    }
  ]
}